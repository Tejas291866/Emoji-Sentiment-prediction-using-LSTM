{
  "nbformat": 4,
  "nbformat_minor": 0,
  "metadata": {
    "colab": {
      "provenance": [],
      "toc_visible": true,
      "authorship_tag": "ABX9TyPKi4nE/DxxmdJFm90mgGsD",
      "include_colab_link": true
    },
    "kernelspec": {
      "name": "python3",
      "display_name": "Python 3"
    },
    "language_info": {
      "name": "python"
    }
  },
  "cells": [
    {
      "cell_type": "markdown",
      "metadata": {
        "id": "view-in-github",
        "colab_type": "text"
      },
      "source": [
        "<a href=\"https://colab.research.google.com/github/Tejas291866/Emoji-Sentiment-prediction-using-LSTM/blob/main/AIPROJECT.ipynb\" target=\"_parent\"><img src=\"https://colab.research.google.com/assets/colab-badge.svg\" alt=\"Open In Colab\"/></a>"
      ]
    },
    {
      "cell_type": "code",
      "source": [
        "def displayminmax(list1):\n",
        "  max=list1[0]\n",
        "  min=list1[0]\n",
        "  for i in range(0,len(list1)):\n",
        "    if list1[i]<min:\n",
        "      min=list1[i]\n",
        "    if list1[i]>max:\n",
        "      max=list1[i]\n",
        "  print(\"max= \",max)\n",
        "  print(\"min= \",min)\n",
        "\n",
        "list1=[9, 2, 5, 1, 7, 4, 10, 3, 6, 8]\n",
        "displayminmax(list1)"
      ],
      "metadata": {
        "id": "9S2vnb8a3DCI"
      },
      "execution_count": null,
      "outputs": []
    },
    {
      "cell_type": "code",
      "source": [
        "#include <stdio.h>\n",
        "#include <stdlib.h>\n",
        "\n",
        "#define GNUPLOT_CMD \"gnuplot -persist\"\n",
        "\n",
        "\n",
        "int f(int n) {\n",
        "    return 7 * n * n + n + 5;\n",
        "}\n",
        "\n",
        "\n",
        "int g(int n) {\n",
        "    return n * n;\n",
        "}\n",
        "\n",
        "// Plot the graph\n",
        "void plotGraph(double c1, double c2) {\n",
        "    FILE *pipe = popen(GNUPLOT_CMD, \"w\");\n",
        "    if (pipe) {\n",
        "        fprintf(pipe, \"set title 'f(n) vs. g(n)'\\n\");\n",
        "        fprintf(pipe, \"set xlabel 'n'\\n\");\n",
        "        fprintf(pipe, \"set ylabel 'f(n), g(n)'\\n\");\n",
        "        fprintf(pipe, \"plot %f * g(x) with lines lt 1 lc rgb 'blue' title 'c1 * g(n)', \\\n",
        "                        %f * g(x) with lines lt 2 lc rgb 'green' title 'c2 * g(n)', \\\n",
        "                        f(x) with lines lt 3 lc rgb 'red' title 'f(n) = 7n^2 + n + 5'\\n\", c1, c2);\n",
        "        fprintf(pipe, \"pause -1\\n\");\n",
        "        pclose(pipe);\n",
        "    } else {\n",
        "        printf(\"Error opening GNUplot.\\n\");\n",
        "    }\n",
        "}\n",
        "\n",
        "int main() {\n",
        "    double c1 = 1.0;  // Constant c1\n",
        "    double c2 = 2.0;  // Constant c2\n",
        "\n",
        "    plotGraph(c1, c2);\n",
        "\n",
        "    return 0;\n",
        "}\n"
      ],
      "metadata": {
        "colab": {
          "base_uri": "https://localhost:8080/"
        },
        "id": "uz3kxCQYyGfF",
        "outputId": "f99ec4b2-46e2-4aa2-d831-4db9ee7766a8"
      },
      "execution_count": null,
      "outputs": [
        {
          "output_type": "error",
          "ename": "SyntaxError",
          "evalue": "ignored",
          "traceback": [
            "\u001b[0;36m  File \u001b[0;32m\"<ipython-input-2-6f3b8c86267c>\"\u001b[0;36m, line \u001b[0;32m7\u001b[0m\n\u001b[0;31m    int f(int n) {\u001b[0m\n\u001b[0m        ^\u001b[0m\n\u001b[0;31mSyntaxError\u001b[0m\u001b[0;31m:\u001b[0m invalid syntax\n"
          ]
        }
      ]
    },
    {
      "cell_type": "code",
      "source": [
        "def linear_search(arr, target):\n",
        "    for i in range(len(arr)):\n",
        "        if arr[i] == target:\n",
        "            return i  # Return the index where the target is found\n",
        "    return -1  # Return -1 if the target is not found\n",
        "\n",
        "# Example usage\n",
        "numbers = [5, 2, 8, 12, 3, 7, 10]\n",
        "target = 7\n",
        "\n",
        "index = linear_search(numbers, target)\n",
        "\n",
        "if index != -1:\n",
        "    print(f\"Target {target} found at index {index}\")\n",
        "else:\n",
        "    print(f\"Target {target} not found\")\n"
      ],
      "metadata": {
        "id": "9CPqD9x57wsQ",
        "colab": {
          "base_uri": "https://localhost:8080/"
        },
        "outputId": "100e9bc4-2ecf-4ad7-a0f2-2f806581d9a6"
      },
      "execution_count": null,
      "outputs": [
        {
          "output_type": "stream",
          "name": "stdout",
          "text": [
            "Target 7 found at index 5\n"
          ]
        }
      ]
    },
    {
      "cell_type": "code",
      "source": [
        "def binary_search(arr, target):\n",
        "    left = 0\n",
        "    right = len(arr) - 1\n",
        "\n",
        "    while left <= right:\n",
        "        mid = (left + right) // 2\n",
        "\n",
        "        if arr[mid] == target:\n",
        "            return mid  # Return the index where the target is found\n",
        "        elif arr[mid] < target:\n",
        "            left = mid + 1\n",
        "        else:\n",
        "            right = mid - 1\n",
        "\n",
        "    return -1  # Return -1 if the target is not found\n",
        "\n",
        "# Example usage\n",
        "numbers = [2, 5, 7, 9, 12, 15, 18, 20]\n",
        "target = 7\n",
        "\n",
        "index = binary_search(numbers, target)\n",
        "\n",
        "if index != -1:\n",
        "    print(f\"Target {target} found at index {index}\")\n",
        "else:\n",
        "    print(f\"Target {target} not found\")\n"
      ],
      "metadata": {
        "colab": {
          "base_uri": "https://localhost:8080/"
        },
        "id": "-Ild_Gzn8y_Q",
        "outputId": "3546cad9-808d-40c6-90c3-1b391838c8e0"
      },
      "execution_count": null,
      "outputs": [
        {
          "output_type": "stream",
          "name": "stdout",
          "text": [
            "Target 7 found at index 2\n"
          ]
        }
      ]
    },
    {
      "cell_type": "code",
      "source": [
        "list1 = [0, 1]\n",
        "\n",
        "def fibonacci():\n",
        "    for i in range(2, 100):\n",
        "        a = list1[i-1] + list1[i-2]\n",
        "        list1.append(a)\n",
        "    print(list1)\n",
        "\n",
        "fibonacci()\n",
        "\n"
      ],
      "metadata": {
        "colab": {
          "base_uri": "https://localhost:8080/"
        },
        "id": "w3X66mFQ897g",
        "outputId": "86645b13-58da-49f2-9512-6bcca83b7bd7"
      },
      "execution_count": null,
      "outputs": [
        {
          "output_type": "stream",
          "name": "stdout",
          "text": [
            "[0, 1, 1, 2, 3, 5, 8, 13, 21, 34, 55, 89, 144, 233, 377, 610, 987, 1597, 2584, 4181, 6765, 10946, 17711, 28657, 46368, 75025, 121393, 196418, 317811, 514229, 832040, 1346269, 2178309, 3524578, 5702887, 9227465, 14930352, 24157817, 39088169, 63245986, 102334155, 165580141, 267914296, 433494437, 701408733, 1134903170, 1836311903, 2971215073, 4807526976, 7778742049, 12586269025, 20365011074, 32951280099, 53316291173, 86267571272, 139583862445, 225851433717, 365435296162, 591286729879, 956722026041, 1548008755920, 2504730781961, 4052739537881, 6557470319842, 10610209857723, 17167680177565, 27777890035288, 44945570212853, 72723460248141, 117669030460994, 190392490709135, 308061521170129, 498454011879264, 806515533049393, 1304969544928657, 2111485077978050, 3416454622906707, 5527939700884757, 8944394323791464, 14472334024676221, 23416728348467685, 37889062373143906, 61305790721611591, 99194853094755497, 160500643816367088, 259695496911122585, 420196140727489673, 679891637638612258, 1100087778366101931, 1779979416004714189, 2880067194370816120, 4660046610375530309, 7540113804746346429, 12200160415121876738, 19740274219868223167, 31940434634990099905, 51680708854858323072, 83621143489848422977, 135301852344706746049, 218922995834555169026]\n"
          ]
        }
      ]
    }
  ]
}